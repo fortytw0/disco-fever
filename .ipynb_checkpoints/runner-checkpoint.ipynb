{
 "cells": [
  {
   "cell_type": "code",
   "execution_count": 1,
   "id": "49a82363",
   "metadata": {},
   "outputs": [],
   "source": [
    "import os\n",
    "import glob\n",
    "import json\n",
    "\n",
    "from tqdm.notebook import tqdm"
   ]
  },
  {
   "cell_type": "code",
   "execution_count": 2,
   "id": "581fe97a",
   "metadata": {},
   "outputs": [],
   "source": [
    "data_dir = 'data/'\n",
    "train_file = 'data/train.jsonl'\n",
    "dev_file = 'data/dev.jsonl'\n",
    "wiki_pages_dir = 'data/wiki-pages/'"
   ]
  },
  {
   "cell_type": "code",
   "execution_count": 3,
   "id": "fc2da959-909b-4de4-80c1-1d227b9dc2c1",
   "metadata": {},
   "outputs": [],
   "source": [
    "create_wiki_entity_map = True"
   ]
  },
  {
   "cell_type": "markdown",
   "id": "a8b6879c-43f8-4220-a784-0f00a289658a",
   "metadata": {},
   "source": [
    "## Creating entity map for entire wiki-database"
   ]
  },
  {
   "cell_type": "code",
   "execution_count": 4,
   "id": "0be10b4c-a9bf-452b-80ff-7294f8cccbfb",
   "metadata": {},
   "outputs": [],
   "source": [
    "wiki_pages = glob.glob(os.path.join(wiki_pages_dir, '*.jsonl'))\n",
    "\n",
    "num_wiki_pages = len(wiki_pages)"
   ]
  },
  {
   "cell_type": "code",
   "execution_count": 5,
   "id": "4c655929-6ba8-4228-8e1e-c83e125bc518",
   "metadata": {},
   "outputs": [],
   "source": [
    "wiki_dict = {}"
   ]
  },
  {
   "cell_type": "code",
   "execution_count": 6,
   "id": "abbda3b0-8d1d-4d32-8a00-c4ba43ec7357",
   "metadata": {},
   "outputs": [
    {
     "data": {
      "application/vnd.jupyter.widget-view+json": {
       "model_id": "04b1186ee9c24ae5b7a08c7a42e26730",
       "version_major": 2,
       "version_minor": 0
      },
      "text/plain": [
       "  0%|          | 0/109 [00:00<?, ?it/s]"
      ]
     },
     "metadata": {},
     "output_type": "display_data"
    }
   ],
   "source": [
    "for i in tqdm(range(num_wiki_pages)) : \n",
    "    \n",
    "    wiki_file = open(wiki_pages[i])\n",
    "    for line in wiki_file.readlines() : \n",
    "        data = json.loads(line)\n",
    "        wiki_dict[data['id']] = wiki_pages[i]\n",
    "    wiki_file.close()"
   ]
  },
  {
   "cell_type": "code",
   "execution_count": 7,
   "id": "e843444e-13bd-4009-a895-3b3cdf6953f1",
   "metadata": {},
   "outputs": [],
   "source": [
    "with open('data/entity-map.json', 'w') as f :\n",
    "    json.dump(wiki_dict, f)"
   ]
  },
  {
   "cell_type": "markdown",
   "id": "a2fec770-140c-4bf8-abab-3945523cac18",
   "metadata": {},
   "source": [
    "## Reading train.jsonl"
   ]
  },
  {
   "cell_type": "code",
   "execution_count": 8,
   "id": "3be6fda9-9ece-4527-86cd-85d4b3412cb7",
   "metadata": {},
   "outputs": [],
   "source": [
    "with open(train_file) as f : \n",
    "    train_data = f.readlines()\n",
    "    \n",
    "num_train_data = len(train_data)"
   ]
  },
  {
   "cell_type": "code",
   "execution_count": 9,
   "id": "f31f16a2-ec43-49c8-9d2c-56df8a84b23b",
   "metadata": {},
   "outputs": [
    {
     "data": {
      "text/plain": [
       "145449"
      ]
     },
     "execution_count": 9,
     "metadata": {},
     "output_type": "execute_result"
    }
   ],
   "source": [
    "num_train_data"
   ]
  },
  {
   "cell_type": "code",
   "execution_count": 10,
   "id": "a5f05932-06c4-4c23-94f6-e776acb419ef",
   "metadata": {},
   "outputs": [],
   "source": [
    "def process_sample(sample) :\n",
    "    \n",
    "    processed = {}\n",
    "    if sample['verifiable'] == 'VERIFIABLE' : \n",
    "        processed['claim'] = sample['claim']\n",
    "        processed['label'] = sample['label']\n",
    "        processed['evidence'] = {} \n",
    "\n",
    "\n",
    "\n",
    "\n",
    "        for evidence in sample['evidence'][0] : \n",
    "\n",
    "            wiki_file = open(wiki_dict[evidence[2]]) \n",
    "\n",
    "            for line in wiki_file.readlines() : \n",
    "\n",
    "                line = json.loads(line)\n",
    "\n",
    "                if line['id'] == evidence[-2] : \n",
    "\n",
    "                    processed['evidence'][evidence[-2] + '_' + str(evidence[-1])] = {int(l.split('\\t')[0]):l.split('\\t')[1] for l in line['lines'].split('\\n')}\n",
    "                    \n",
    "    return processed"
   ]
  },
  {
   "cell_type": "code",
   "execution_count": null,
   "id": "38049082-fcbf-4337-a51a-a889b8ff6967",
   "metadata": {},
   "outputs": [],
   "source": [
    "processed_samples = []\n",
    "num_supported = 0\n",
    "num_refuted = 0 \n",
    "\n",
    "max_num_supported = 25000\n",
    "max_num_refuted = 25000\n",
    "\n",
    "i = 0\n",
    "\n",
    "\n",
    "while not (num_supported==max_num_supported) and not (num_refuted==max_num_refuted) : \n",
    "    \n",
    "    sample = json.loads(train_data[i])\n",
    "    \n",
    "    try : \n",
    "    \n",
    "        if sample['verifiable'] == 'VERIFIABLE' : \n",
    "            \n",
    "            if (sample['label'] == 'SUPPORTS') and (num_supported==max_num_supported) : \n",
    "                \n",
    "                processed = process_sample(sample)\n",
    "                num_supported += 1\n",
    "            \n",
    "            elif (sample['label'] == 'REFUTES') and (num_refuted==max_num_refuted) :\n",
    "                \n",
    "                processed = process_sample(sample)\n",
    "                num_refuted += 1\n",
    "\n",
    "\n",
    "            processed_samples.append(processed)\n",
    "        \n",
    "    except Exception as e: \n",
    "        \n",
    "        # print(train_data[i])\n",
    "        print(e)\n",
    "        \n",
    "    i += 1\n",
    "    \n",
    "    if i%500 == 0 : \n",
    "        \n",
    "        print(\"Finished processing : {i} samples.\")\n",
    "        print(\"There are {num_supported} samples that SUPPORTS.\")\n",
    "        print(\"There are {num_refuted} samples that REFUTES.\")\n",
    "    \n",
    "    \n",
    "with open('data/processed_samples.json', 'w') as f : \n",
    "    json.dump(processed_samples, f)"
   ]
  },
  {
   "cell_type": "code",
   "execution_count": 17,
   "id": "fce879db-a636-4543-877a-fb5823f71cc2",
   "metadata": {},
   "outputs": [
    {
     "data": {
      "text/plain": [
       "True"
      ]
     },
     "execution_count": 17,
     "metadata": {},
     "output_type": "execute_result"
    }
   ],
   "source": [
    "not (num_supported==max_num_supported) and not  (num_refuted==max_num_refuted)"
   ]
  },
  {
   "cell_type": "code",
   "execution_count": null,
   "id": "0959f981-9185-4d3e-8c0b-0f1b850aa112",
   "metadata": {},
   "outputs": [],
   "source": []
  }
 ],
 "metadata": {
  "kernelspec": {
   "display_name": "Python 3 (ipykernel)",
   "language": "python",
   "name": "python3"
  },
  "language_info": {
   "codemirror_mode": {
    "name": "ipython",
    "version": 3
   },
   "file_extension": ".py",
   "mimetype": "text/x-python",
   "name": "python",
   "nbconvert_exporter": "python",
   "pygments_lexer": "ipython3",
   "version": "3.8.11"
  }
 },
 "nbformat": 4,
 "nbformat_minor": 5
}
